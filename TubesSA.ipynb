{
  "nbformat": 4,
  "nbformat_minor": 0,
  "metadata": {
    "colab": {
      "name": "TubesSA.ipynb",
      "provenance": [],
      "collapsed_sections": [],
      "include_colab_link": true
    },
    "kernelspec": {
      "name": "python3",
      "display_name": "Python 3"
    },
    "language_info": {
      "name": "python"
    }
  },
  "cells": [
    {
      "cell_type": "markdown",
      "metadata": {
        "id": "view-in-github",
        "colab_type": "text"
      },
      "source": [
        "<a href=\"https://colab.research.google.com/github/thoriqakhdn/Greedy_and_Bruteforce/blob/master/TubesSA.ipynb\" target=\"_parent\"><img src=\"https://colab.research.google.com/assets/colab-badge.svg\" alt=\"Open In Colab\"/></a>"
      ]
    },
    {
      "cell_type": "code",
      "execution_count": null,
      "metadata": {
        "id": "xR3Kym9lmL6y",
        "colab": {
          "base_uri": "https://localhost:8080/"
        },
        "outputId": "6e48cc3e-b8e7-434c-ab3a-c1b56ef9fda2"
      },
      "outputs": [
        {
          "output_type": "stream",
          "name": "stdout",
          "text": [
            "rm_bd masuk\n",
            "46\n",
            "rm_kt masuk\n",
            "91\n",
            "['rm_bd', 'rm_kt']\n",
            "Total rating obtained:  91\n"
          ]
        }
      ],
      "source": [
        "#_____GREEDY_____\n",
        "#Initializing the rumah_makan class with data variables - harga and rating\n",
        "class rumah_makan:\n",
        "    def __init__(self, nama, harga, rating):\n",
        "        self.nama = nama\n",
        "        self.harga = harga\n",
        "        self.rating = rating\n",
        "        self.ratio = rating / harga\n",
        "\n",
        "#Function to solve the 1/0 Knapsack Problem\n",
        "def knapsackMethod(rumah_makan, budget):\n",
        "    rumah_makan.sort(key=lambda x: x.ratio, reverse = True) #mengurutkan rumah makan berdasarkan rasio \n",
        "    rmlist = []\n",
        "    budget_terpakai = 0\n",
        "    totalrating = 0\n",
        "    for i in rumah_makan:\n",
        "        if budget_terpakai + i.harga <= budget:\n",
        "            print(i.nama, \"masuk\")\n",
        "            budget_terpakai += i.harga\n",
        "            totalrating += i.rating\n",
        "            rmlist.append(i.nama)\n",
        "            print(totalrating)\n",
        "\n",
        "        if budget_terpakai == budget:\n",
        "            break\n",
        "    print(rmlist)\n",
        "    print(\"Total rating obtained: \", totalrating)\n",
        "\n",
        "\n",
        "rm_cb = rumah_makan(\"rm_cb\",26,44)\n",
        "rm_pdg = rumah_makan(\"rm_pdg\",20,47)\n",
        "rm_pmr = rumah_makan(\"rm_pmr\",15,44)\n",
        "rm_kt = rumah_makan(\"rm_kt\",13,45)\n",
        "rm_bd = rumah_makan(\"rm_bd\",12, 46)\n",
        "cList = [rm_cb, rm_pdg, rm_pmr, rm_kt, rm_bd]\n",
        "\n",
        "knapsackMethod(cList, 35)\n"
      ]
    },
    {
      "cell_type": "code",
      "source": [
        "#_____BRUTEFORCE_____\n",
        "# Returns the maximum ratingue that\n",
        "# can be put in a knapsack of\n",
        "# capacity W\n",
        " \n",
        " \n",
        "def knapSack(budget, harga, rating, n):\n",
        " \n",
        "    # Base Case\n",
        "    if n == 0 or W == 0:\n",
        "        return 0\n",
        " \n",
        "    # If weight of the nth item is\n",
        "    # more than Knapsack of capacity W,\n",
        "    # then this item cannot be included\n",
        "    # in the optimal solution\n",
        "    if (harga[n-1] > W):\n",
        "        return knapSack(W, harga, rating, n-1)\n",
        "        process = process + 1\n",
        " \n",
        "    # return the maximum of two cases:\n",
        "    # (1) nth item included\n",
        "    # (2) not included\n",
        "    else:\n",
        "        return max(\n",
        "            rating[n-1] + knapSack(\n",
        "                W-harga[n-1], harga, rating, n-1),\n",
        "            knapSack(W, harga, rating, n-1))\n",
        "    \n",
        "# end of function knapSack\n",
        " \n",
        " \n",
        "#Driver Code\n",
        "rating = [44, 47, 44, 45, 46]\n",
        "harga = [26, 20, 15, 13, 12]\n",
        "budget = 35\n",
        "n = len(rating)\n",
        "print(knapSack(budget, harga, rating, n))"
      ],
      "metadata": {
        "colab": {
          "base_uri": "https://localhost:8080/"
        },
        "id": "GpT8_Y5HDNvi",
        "outputId": "9533e736-0d92-410f-f711-50bb3036be1b"
      },
      "execution_count": null,
      "outputs": [
        {
          "output_type": "stream",
          "name": "stdout",
          "text": [
            "226\n"
          ]
        }
      ]
    }
  ]
}