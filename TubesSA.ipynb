{
  "cells": [
    {
      "cell_type": "markdown",
      "metadata": {
        "colab_type": "text",
        "id": "view-in-github"
      },
      "source": [
        "<a href=\"https://colab.research.google.com/github/thoriqakhdn/Greedy_and_Bruteforce/blob/master/TubesSA.ipynb\" target=\"_parent\"><img src=\"https://colab.research.google.com/assets/colab-badge.svg\" alt=\"Open In Colab\"/></a>"
      ]
    },
    {
      "cell_type": "code",
      "execution_count": 1,
      "metadata": {
        "colab": {
          "base_uri": "https://localhost:8080/"
        },
        "id": "xR3Kym9lmL6y",
        "outputId": "6e48cc3e-b8e7-434c-ab3a-c1b56ef9fda2"
      },
      "outputs": [
        {
          "name": "stdout",
          "output_type": "stream",
          "text": [
            "rm_bd masuk\n",
            "46\n",
            "rm_kt masuk\n",
            "91\n",
            "['rm_bd', 'rm_kt']\n",
            "Total rating obtained:  91\n"
          ]
        }
      ],
      "source": [
        "#_____GREEDY_____\n",
        "#Initializing the rumah_makan class with data variables - harga and rating\n",
        "class rumah_makan:\n",
        "    def __init__(self, nama, harga, rating):\n",
        "        self.nama = nama\n",
        "        self.harga = harga\n",
        "        self.rating = rating\n",
        "        self.ratio = rating / harga\n",
        "\n",
        "#Function to solve the 1/0 Knapsack Problem\n",
        "def knapsackMethod(rumah_makan, budget):\n",
        "    rumah_makan.sort(key=lambda x: x.ratio, reverse = True) #mengurutkan rumah makan berdasarkan rasio \n",
        "    rmlist = []\n",
        "    budget_terpakai = 0\n",
        "    totalrating = 0\n",
        "    for i in rumah_makan:\n",
        "        if budget_terpakai + i.harga <= budget:\n",
        "            print(i.nama, \"masuk\")\n",
        "            budget_terpakai += i.harga\n",
        "            totalrating += i.rating\n",
        "            rmlist.append(i.nama)\n",
        "            print(totalrating)\n",
        "\n",
        "        if budget_terpakai == budget:\n",
        "            break\n",
        "    print(rmlist)\n",
        "    print(\"Total rating obtained: \", totalrating)\n",
        "\n",
        "\n",
        "rm_cb = rumah_makan(\"rm_cb\",26,44)\n",
        "rm_pdg = rumah_makan(\"rm_pdg\",20,47)\n",
        "rm_pmr = rumah_makan(\"rm_pmr\",15,44)\n",
        "rm_kt = rumah_makan(\"rm_kt\",13,45)\n",
        "rm_bd = rumah_makan(\"rm_bd\",12, 46)\n",
        "cList = [rm_cb, rm_pdg, rm_pmr, rm_kt, rm_bd]\n",
        "\n",
        "knapsackMethod(cList, 35)\n"
      ]
    },
    {
      "cell_type": "code",
      "execution_count": 5,
      "metadata": {
        "colab": {
          "base_uri": "https://localhost:8080/"
        },
        "id": "GpT8_Y5HDNvi",
        "outputId": "9533e736-0d92-410f-f711-50bb3036be1b"
      },
      "outputs": [
        {
          "name": "stdout",
          "output_type": "stream",
          "text": [
            "93\n"
          ]
        }
      ],
      "source": [
        "#_____BRUTEFORCE_____\n",
        "# Returns the maximum ratingue that\n",
        "# can be put in a knapsack of\n",
        "# capacity W\n",
        " \n",
        " \n",
        "def knapSack(budget, harga, rating, n):\n",
        " \n",
        "    # Base Case\n",
        "    if n == 0 or budget == 0:\n",
        "        return 0\n",
        " \n",
        "    # If weight of the nth item is\n",
        "    # more than Knapsack of capacity W,\n",
        "    # then this item cannot be included\n",
        "    # in the optimal solution\n",
        "    if (harga[n-1] > budget):\n",
        "        return knapSack(budget, harga, rating, n-1)\n",
        "        process = process + 1\n",
        " \n",
        "    # return the maximum of two cases:\n",
        "    # (1) nth item included\n",
        "    # (2) not included\n",
        "    else:\n",
        "        return max(\n",
        "            rating[n-1] + knapSack(\n",
        "                budget-harga[n-1], harga, rating, n-1),\n",
        "            knapSack(budget, harga, rating, n-1))\n",
        "    \n",
        "# end of function knapSack\n",
        " \n",
        " \n",
        "#Driver Code\n",
        "rating = [44, 47, 44, 45, 46]\n",
        "harga = [26, 20, 15, 13, 12]\n",
        "budget = 35\n",
        "n = len(rating)\n",
        "print(knapSack(budget, harga, rating, n))"
      ]
    }
  ],
  "metadata": {
    "colab": {
      "collapsed_sections": [],
      "include_colab_link": true,
      "name": "TubesSA.ipynb",
      "provenance": []
    },
    "kernelspec": {
      "display_name": "Python 3.10.0 64-bit",
      "language": "python",
      "name": "python3"
    },
    "language_info": {
      "codemirror_mode": {
        "name": "ipython",
        "version": 3
      },
      "file_extension": ".py",
      "mimetype": "text/x-python",
      "name": "python",
      "nbconvert_exporter": "python",
      "pygments_lexer": "ipython3",
      "version": "3.10.0"
    },
    "vscode": {
      "interpreter": {
        "hash": "81b6376eb37143a0760e9a20e5ea73a1f2630a746643fee7df862ca05e66ff00"
      }
    }
  },
  "nbformat": 4,
  "nbformat_minor": 0
}
